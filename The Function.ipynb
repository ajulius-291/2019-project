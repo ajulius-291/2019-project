{
  "cells": [
    {
      "metadata": {
        "trusted": true
      },
      "cell_type": "code",
      "source": "#this is the practice testbook before actually turning in our work.\ndef play_function():\n    print(\"Here we will start rock, paper, scissors\")\n    u1 = ''.join(input(\"Choose Rock, Paper, or Scissors; The font is case sensitive\"))  \n    #now that we have determined the user input, we will assign numerical values to Rock, Paper and scissors.\n    if u1 == \"Rock\":\n         u1 = 1\n    if u1 == \"Scissors\":\n        u1 = 2\n    if u1 == \"Paper\":\n        u1 = 3\n    #after assigning integers to each variable, this will now make it easier to do the if statements.\n    import random\n    for x in range(3):\n        computer = random.randint(1,3)\n    #This will randomly generate a number between 1 and 3, which correspond to rock paper or scissors\n    # Rock = 1, Scissors = 2, Paper = 3; this will be the computer input\n    #the next part of the program will be a series of if statements\n    if u1 == computer:\n        print(\"Tie! Go Again?\")\n    if u1 == 1:\n        if computer == 2:\n            print(\"You chose:\")\n            print(\"Rock\")\n            print(\"Computer Chose:\")\n            print(\"Scissors\")\n            print(\"You Win! Go Again?\")\n        if computer == 3:\n            print(\"You chose:\")\n            print(\"Rock\")\n            print(\"Computer Chose:\")\n            print(\"Paper\")\n            print(\"You Lose! Go Again!\")\n    if u1 == 2:\n        if computer == 1:\n            print(\"You chose:\")\n            print(\"Scissors\")\n            print(\"Computer Chose:\")\n            print(\"Rock\")\n            print(\"You Lose! Go Again?\")\n        if computer == 3:\n            print(\"You chose:\")\n            print(\"Scissors\")\n            print(\"Computer Chose:\")\n            print(\"Paper\")\n            print(\"You Win! Go Again?\")\n    if u1 == 3:\n        if computer == 1:\n            print(\"You chose:\")\n            print(\"Paper\")\n            print(\"Computer Chose:\")\n            print(\"Rock\")\n            print(\"You Win! Go Again?\")\n        if computer == 2:\n            print(\"You chose:\")\n            print(\"Paper\")\n            print(\"Computer Chose:\")\n            print(\"Scissors\")\n            print(\"You Lose! Go Again?\")\n    #And that's all there is to it. All this was above was a series of conditional statements to tell the computer what to do in the case of a certain outcome.\nplay_function()\n",
      "execution_count": 19,
      "outputs": [
        {
          "output_type": "stream",
          "text": "Here we will start rock, paper, scissors\nChoose Rock, Paper, or Scissors; The font is case sensitivePaper\nYou chose:\nPaper\nComputer Chose:\nRock\nYou Win! Go Again?\n",
          "name": "stdout"
        }
      ]
    }
  ],
  "metadata": {
    "kernelspec": {
      "name": "python36",
      "display_name": "Python 3.6",
      "language": "python"
    },
    "language_info": {
      "mimetype": "text/x-python",
      "nbconvert_exporter": "python",
      "name": "python",
      "pygments_lexer": "ipython3",
      "version": "3.6.6",
      "file_extension": ".py",
      "codemirror_mode": {
        "version": 3,
        "name": "ipython"
      }
    }
  },
  "nbformat": 4,
  "nbformat_minor": 2
}